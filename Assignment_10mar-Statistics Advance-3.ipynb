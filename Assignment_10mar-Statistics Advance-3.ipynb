{
 "cells": [
  {
   "cell_type": "code",
   "execution_count": null,
   "id": "67000125-31d0-497b-8783-6d468a1bb96b",
   "metadata": {},
   "outputs": [],
   "source": [
    "Q1: What is Estimation Statistics? Explain point estimate and interval estimate."
   ]
  },
  {
   "cell_type": "code",
   "execution_count": null,
   "id": "f9ce0546-f061-44f4-b7e4-5e330886ba22",
   "metadata": {},
   "outputs": [],
   "source": [
    "In statistics, estimation is a method of using sample data to calculate an estimate of \n",
    "an unknown population parameter. There are two common types of estimation methods:\n",
    "\n",
    "Point estimation: Uses sample data to calculate a single value that serves as a \"best guess\"\n",
    "or \"best estimate\" of the unknown parameter. For example, a sample mean is a point estimate of a population mean.\n",
    "\n",
    "Interval estimation: Uses sample data to estimate an interval of possible values of the parameter.\n",
    "The most common type of interval estimate is a confidence interval."
   ]
  },
  {
   "cell_type": "code",
   "execution_count": null,
   "id": "0765d234-4cb4-436b-a983-b44453cb275c",
   "metadata": {},
   "outputs": [],
   "source": [
    "Q2. Write a Python function to estimate the population mean using a sample mean and standard\n",
    "deviation."
   ]
  },
  {
   "cell_type": "code",
   "execution_count": 30,
   "id": "48a03e31-aedd-438e-9dc9-e79b30ada588",
   "metadata": {},
   "outputs": [
    {
     "name": "stdout",
     "output_type": "stream",
     "text": [
      "The estimated population mean is: 62.10000000000001\n"
     ]
    }
   ],
   "source": [
    "from math import sqrt\n",
    "\n",
    "def estimate_population_mean(X̄, std, n):\n",
    "    moe = std / sqrt(n)\n",
    "    lower_bound = X̄ - moe\n",
    "    upper_bound = X̄ + moe\n",
    "\n",
    "    return (lower_bound + upper_bound) / 2\n",
    "\n",
    "X̄ = 62.1\n",
    "std = 13.46\n",
    "n = 30\n",
    "\n",
    "estimated_μ = estimate_population_mean(X̄, std, n)\n",
    "print(\"The estimated population mean is:\", estimated_μ)"
   ]
  },
  {
   "cell_type": "code",
   "execution_count": null,
   "id": "2af33647-d1c9-4f42-9863-65d1da26fd9c",
   "metadata": {},
   "outputs": [],
   "source": [
    "Q3: What is Hypothesis testing? Why is it used? State the importance of Hypothesis testing."
   ]
  },
  {
   "cell_type": "code",
   "execution_count": null,
   "id": "2593feb1-c859-4d77-bd19-7bef3a3532e8",
   "metadata": {},
   "outputs": [],
   "source": [
    "Hypothesis testing is a statistical method that assesses whether sample data supports a hypothesis\n",
    "about a population.\n",
    "\n",
    "The purpose of hypothesis testing is to test whether the null hypothesis (there is no difference, no effect)\n",
    "can be rejected or approved. If the null hypothesis is rejected, then the research hypothesis can be accepted. \n",
    "If the null hypothesis is accepted, then the research hypothesis is rejected.\n",
    "\n",
    "Hypothesis helps in making an observation and experiments possible. It becomes the start point for the\n",
    "investigation. Hypothesis helps in verifying the observations. It helps in directing the inquiries in the right direction."
   ]
  },
  {
   "cell_type": "code",
   "execution_count": null,
   "id": "15a5ebf0-ed24-4dc0-91d6-fc2568e82e2f",
   "metadata": {},
   "outputs": [],
   "source": [
    "Q4. Create a hypothesis that states whether the average weight of male college students is greater than\n",
    "the average weight of female college students."
   ]
  },
  {
   "cell_type": "code",
   "execution_count": null,
   "id": "cb5bfd1e-d237-4765-84b3-05c0b1944c51",
   "metadata": {},
   "outputs": [],
   "source": [
    "μ1= average weight of male college students\n",
    "μ2= average weight of female college students\n",
    "H0: μ1>μ2\n",
    "H1: μ1<μ2"
   ]
  },
  {
   "cell_type": "code",
   "execution_count": null,
   "id": "f27ebf5a-b5cd-48ba-b3e2-ae250e8107fc",
   "metadata": {},
   "outputs": [],
   "source": [
    "Q5. Write a Python script to conduct a hypothesis test on the difference between two population means,\n",
    "given a sample from each population."
   ]
  },
  {
   "cell_type": "code",
   "execution_count": 26,
   "id": "9097c1cd-b142-4ceb-b9e1-6936b94ff4c3",
   "metadata": {},
   "outputs": [
    {
     "name": "stdout",
     "output_type": "stream",
     "text": [
      "X̄1- 15.15 , s1- 2.7798381247835278\n",
      "X̄2- 15.8 , s2- 3.5014282800023193\n"
     ]
    },
    {
     "data": {
      "text/plain": [
       "Ttest_indResult(statistic=-0.6337397070250238, pvalue=0.5302413334606599)"
      ]
     },
     "execution_count": 26,
     "metadata": {},
     "output_type": "execute_result"
    }
   ],
   "source": [
    "import numpy as np\n",
    "import scipy.stats as stats\n",
    "\n",
    "# Creating samples\n",
    "sample1 = np.array([14, 15, 15, 16, 13, 8, 14, 17, 16, 14, 19, 20, 21, 15, 15, 16, 16, 13, 14, 12])\n",
    "sample2 = np.array([15, 17, 14, 17, 14, 8, 12, 19, 19, 14, 17, 22, 24, 16, 13, 16, 13, 18, 15, 13])\n",
    "\n",
    "print('X̄1-',np.mean(sample1),', s1-',np.std(sample1))\n",
    "print('X̄2-',np.mean(sample2),', s2-',np.std(sample2))\n",
    "\n",
    "# Print t-statistic & p-value\n",
    "stats.ttest_ind(a=sample1, b=sample2, equal_var=False)"
   ]
  },
  {
   "cell_type": "code",
   "execution_count": null,
   "id": "34b72b44-4acd-4e4f-8074-172a5593112a",
   "metadata": {},
   "outputs": [],
   "source": [
    "Q6: What is a null and alternative hypothesis? Give some examples."
   ]
  },
  {
   "cell_type": "code",
   "execution_count": null,
   "id": "ce870574-37ec-4889-94e8-43351b9b4159",
   "metadata": {},
   "outputs": [],
   "source": [
    "A null hypothesis is a neutral assumption that there is no relationship between variables. \n",
    "An alternative hypothesis, also known as the claim, is a statement that there is a relationship\n",
    "between variables. The alternative hypothesis is the research hypothesis, or the idea we want to prove.\n",
    "\n",
    "Examples: Null Hypothesis: H0: There is no difference in the salary of factory workers based on gender. \n",
    "Alternative Hypothesis: Ha: Male factory workers have a higher salary than female factory workers."
   ]
  },
  {
   "cell_type": "code",
   "execution_count": null,
   "id": "499ad64c-579d-4dd8-9ff8-74ad6ba5c5da",
   "metadata": {},
   "outputs": [],
   "source": [
    "Q7: Write down the steps involved in hypothesis testing."
   ]
  },
  {
   "cell_type": "code",
   "execution_count": null,
   "id": "5a56366d-9e35-4173-96b3-0dee5d059b17",
   "metadata": {},
   "outputs": [],
   "source": [
    "1. State the null hypothesis. The null hypothesis is the statement that there is no difference \n",
    "between the two groups being compared.\n",
    "\n",
    "2. State the alternative hypothesis. The alternative hypothesis is the statement that there is a\n",
    "difference between the two groups being compared.\n",
    "\n",
    "3. Collect data. Data is collected from both groups being compared.\n",
    "\n",
    "4. Analyze the data. The data is analyzed to determine whether there is a statistically significant\n",
    "difference between the two groups.\n",
    "\n",
    "5. Draw a conclusion. If the data is statistically significant, then the null hypothesis is rejected\n",
    "and the alternative hypothesis is accepted. If the data is not statistically significant, then the null\n",
    "hypothesis is not rejected and the alternative hypothesis is not accepted."
   ]
  },
  {
   "cell_type": "code",
   "execution_count": null,
   "id": "801ab4e9-7364-422e-b295-1182912b8ee4",
   "metadata": {},
   "outputs": [],
   "source": [
    "Q8. Define p-value and explain its significance in hypothesis testing."
   ]
  },
  {
   "cell_type": "code",
   "execution_count": null,
   "id": "44f699e5-bc3a-4f32-a71b-ec658b37f6b4",
   "metadata": {},
   "outputs": [],
   "source": [
    "In hypothesis testing, a p-value, or probability value, is a number that measures the likelihood that\n",
    "a given result could have occurred by chance if the null hypothesis is true.\n",
    "\n",
    "P-values are used in research to determine whether the sample estimate is significantly different \n",
    "from a hypothesized value. They are expressed as decimals and can be converted into percentage.\n",
    "For example, a p-value of 0.0237 is 2.37%, which means there's a 2.37% chance of your results being \n",
    "random or having happened by chance."
   ]
  },
  {
   "cell_type": "code",
   "execution_count": null,
   "id": "77a115aa-90f7-4e39-8804-b65cac347b8b",
   "metadata": {},
   "outputs": [],
   "source": [
    "Q9. Generate a Student's t-distribution plot using Python's matplotlib library, with the degrees of freedom\n",
    "parameter set to 10."
   ]
  },
  {
   "cell_type": "code",
   "execution_count": 3,
   "id": "91fc6e1d-4f45-42b3-840b-266d92c98381",
   "metadata": {},
   "outputs": [
    {
     "data": {
      "image/png": "[encoded data removed]",
      "text/plain": [
       "<Figure size 640x480 with 1 Axes>"
      ]
     },
     "metadata": {},
     "output_type": "display_data"
    }
   ],
   "source": [
    "import numpy as np\n",
    "import matplotlib.pyplot as plt\n",
    "from scipy.stats import t\n",
    "\n",
    "# Set degrees of freedom\n",
    "df = 10\n",
    "\n",
    "# Generate x values\n",
    "x = np.linspace(-4, 4, 1000)\n",
    "\n",
    "# Calculate the probability density function (PDF) for the t-distribution\n",
    "pdf = t.pdf(x, df)\n",
    "\n",
    "# Plot the PDF\n",
    "plt.plot(x, pdf, label='t-distribution (df=10)')\n",
    "plt.title(\"Student's t-Distribution\")\n",
    "plt.xlabel('x')\n",
    "plt.ylabel('Probability Density')\n",
    "plt.legend()\n",
    "plt.grid(True)\n",
    "plt.show()"
   ]
  },
  {
   "cell_type": "code",
   "execution_count": null,
   "id": "74315eb5-aa81-4cd8-973e-65a4a98d57b8",
   "metadata": {},
   "outputs": [],
   "source": [
    "Q10. Write a Python program to calculate the two-sample t-test for independent samples, given two\n",
    "random samples of equal size and a null hypothesis that the population means are equal."
   ]
  },
  {
   "cell_type": "code",
   "execution_count": 6,
   "id": "c30a54d7-61da-4ea2-ba8c-5be824141309",
   "metadata": {},
   "outputs": [
    {
     "name": "stdout",
     "output_type": "stream",
     "text": [
      "7.727500000000001\n",
      "12.260000000000002\n"
     ]
    },
    {
     "data": {
      "text/plain": [
       "Ttest_indResult(statistic=-0.6337397070250238, pvalue=0.5302413334606599)"
      ]
     },
     "execution_count": 6,
     "metadata": {},
     "output_type": "execute_result"
    }
   ],
   "source": [
    "import numpy as np\n",
    "import scipy.stats as stats\n",
    "\n",
    "# Creating data groups\n",
    "data_group1 = np.array([14, 15, 15, 16, 13, 8, 14, 17, 16, 14, 19, 20, 21, 15, 15, 16, 16, 13, 14, 12])\n",
    "data_group2 = np.array([15, 17, 14, 17, 14, 8, 12, 19, 19, 14, 17, 22, 24, 16, 13, 16, 13, 18, 15, 13])\n",
    "\n",
    "# Print the variance \n",
    "print(np.var(data_group1))\n",
    "print(np.var(data_group2))\n",
    "\n",
    "# Print t-statistic & p-value\n",
    "stats.ttest_ind(a=data_group1, b=data_group2, equal_var=False)"
   ]
  },
  {
   "cell_type": "code",
   "execution_count": null,
   "id": "b56c8dc1-5257-4d25-a15a-b0742e8a71f2",
   "metadata": {},
   "outputs": [],
   "source": [
    "Q11: What is Student’s t distribution? When to use the t-Distribution."
   ]
  },
  {
   "cell_type": "code",
   "execution_count": null,
   "id": "61ccdc19-ac87-4e8a-96ca-a8578260df3e",
   "metadata": {},
   "outputs": [],
   "source": [
    "Student's t-distribution, also known as the t-distribution, is a probability distribution used to \n",
    "estimate population parameters when sample sizes are small or the population standard deviation is unknown. \n",
    "\n",
    "The t-distribution is used in a number of statistical analyses, including:\n",
    "1. Student's t test to assess the statistical significance of the difference between two sample means\n",
    "2. Constructing confidence intervals for the difference between two population means\n",
    "3. Linear regression analysis"
   ]
  },
  {
   "cell_type": "code",
   "execution_count": null,
   "id": "3abcc148-1e33-44d3-b436-9e5bd88eae73",
   "metadata": {},
   "outputs": [],
   "source": [
    "Q12: What is t-statistic? State the formula for t-statistic."
   ]
  },
  {
   "cell_type": "code",
   "execution_count": null,
   "id": "671afe82-6c27-4bd9-b87d-b1bbe20eb9e4",
   "metadata": {},
   "outputs": [],
   "source": [
    "In statistics, the t-statistic is the ratio of the difference in a number's estimated value from\n",
    "its assumed value to its standard error. It is used in hypothesis testing via Student's t-test. \n",
    "The t-statistic is used in a t-test to determine whether to support or reject the null hypothesis.\n",
    "\n",
    "t test formula (two samples) t = M1 – M2 Spooled Mean of group 1 (M1) minus mean of group 2 (M2), \n",
    "divided by the pooled standard error (Spooled)."
   ]
  },
  {
   "cell_type": "code",
   "execution_count": null,
   "id": "70bb9c08-857d-416e-b883-f2d6623ba354",
   "metadata": {},
   "outputs": [],
   "source": [
    "Q13. A coffee shop owner wants to estimate the average daily revenue for their shop. They take a random\n",
    "sample of 50 days and find the sample mean revenue to be $500 with a standard deviation of $50.\n",
    "Estimate the population mean revenue with a 95% confidence interval."
   ]
  },
  {
   "cell_type": "code",
   "execution_count": null,
   "id": "91b13c87-1859-4663-b44e-9bf1c91f9a6a",
   "metadata": {},
   "outputs": [],
   "source": [
    "X̄(sample mean) = 500, n(sample size) = 50, sample std = 50\n",
    "significance level= 0.05, Confidence Interval(CI) = 0.95\n",
    "\n",
    "using margin of error to estimate the population mean(μ),\n",
    "500(+/-)Z(0.05/2)*(50/sqrt(50))     \n",
    "500(+/-)Z(0.025)*(50/sqrt(50))        [(1-0.025) = 0.975(area in z-table), z-score at 0.975 is 1.96 ]\n",
    "\n",
    "Lower CI = 500 - ((1.96)*50/7.07)\n",
    "         = 500 - 13.861 = 486.138\n",
    "Higher CI = 500 + ((1.96)*50/7.07)\n",
    "          = 500 + 13.861 = 513.861\n",
    "    \n",
    "Average daily revenue for the shop lies between 486.138 and 513.861\n",
    "Estimated population mean = (lower_bound + upper_bound) / 2\n",
    "                          = (486.138+513.861)/2 = 499.99"
   ]
  },
  {
   "cell_type": "code",
   "execution_count": null,
   "id": "b4f752b4-a647-4d25-b91b-00d9094a012e",
   "metadata": {},
   "outputs": [],
   "source": [
    "Q14. A researcher hypothesizes that a new drug will decrease blood pressure by 10 mmHg. They conduct a\n",
    "clinical trial with 100 patients and find that the sample mean decrease in blood pressure is 8 mmHg with a\n",
    "standard deviation of 3 mmHg. Test the hypothesis with a significance level of 0.05."
   ]
  },
  {
   "cell_type": "code",
   "execution_count": null,
   "id": "8066ca02-0679-4327-8b5b-c369aef0727f",
   "metadata": {},
   "outputs": [],
   "source": [
    "X̄(sample mean) = 8, μ(population mean) = 10, n(sample size) = 100, sample std = 3\n",
    "significance level= 0.05, Confidence Interval(CI) = 0.95\n",
    "\n",
    "Null Hypothesis: new drug will decrease blood pressure by 10 mmHg\n",
    "Alternate Hypothesis: new drug will not decrease blood pressure by 10 mmHg \n",
    "\n",
    "degree of freedom = n-1 = 100-1= 99\n",
    "\n",
    "using t-test,\n",
    "t-score at 0.025 significance level  = 2.626\n",
    "calculating t-test statistics,t = (8-10)/(3/sqrt(100))\n",
    "                                = -2/(3/10) = -2/0.3 = -6.667\n",
    "Decision Rule: -6.667<-2.626 and -6.667<2.626\n",
    "Hence, rejecting the null hypothesis."
   ]
  },
  {
   "cell_type": "code",
   "execution_count": null,
   "id": "02dad349-8b6b-4b74-b7b3-c1731e140ce3",
   "metadata": {},
   "outputs": [],
   "source": [
    "Q15. An electronics company produces a certain type of product with a mean weight of 5 pounds and a\n",
    "standard deviation of 0.5 pounds. A random sample of 25 products is taken, and the sample mean weight\n",
    "is found to be 4.8 pounds. Test the hypothesis that the true mean weight of the products is less than 5\n",
    "pounds with a significance level of 0.01."
   ]
  },
  {
   "cell_type": "code",
   "execution_count": null,
   "id": "fb05ba33-5dc3-4e01-9e52-b5a30f2974cd",
   "metadata": {},
   "outputs": [],
   "source": [
    "X̄(sample mean) = 4.8, μ(population mean) = 5, n = 25, population std = 0.5\n",
    "significance level= 0.01, Confidence Interval(CI) = 0.99\n",
    "\n",
    "Null Hypothesis: true mean weight of the products is 5 pounds\n",
    "Alternate Hypothesis: true mean weight of the products is less than 5 pounds \n",
    "\n",
    "degree of freedom = n-1 = 25-1= 24\n",
    "\n",
    "using t-test,\n",
    "t-score at 0.005 significance level  =  2.797\n",
    "calculating t-test statistics,t = (4.8-5)/(0.5/sqrt(25))\n",
    "                                = -0.2/(0.5/5) = -0.2/0.1 = 2\n",
    "Decision Rule: -2.626 < 2 > 2.626\n",
    "Hence, accepting the null hypothesis."
   ]
  },
  {
   "cell_type": "code",
   "execution_count": null,
   "id": "fca3f4e7-6bd6-43d7-a446-8fbcfe7618d7",
   "metadata": {},
   "outputs": [],
   "source": [
    "Q16. Two groups of students are given different study materials to prepare for a test. The first group (n1 =\n",
    "30) has a mean score of 80 with a standard deviation of 10, and the second group (n2 = 40) has a mean\n",
    "score of 75 with a standard deviation of 8. Test the hypothesis that the population means for the two\n",
    "groups are equal with a significance level of 0.01."
   ]
  },
  {
   "cell_type": "code",
   "execution_count": null,
   "id": "05d697a4-301b-4155-8689-b7c0e6844db8",
   "metadata": {},
   "outputs": [],
   "source": [
    "First group:\n",
    "     X̄1(sample mean) = 80, n1 = 30, population std,s1 = 10\n",
    "        \n",
    "Second group:\n",
    "    X̄2(sample mean) = 75, n2 = 40, population std,s2 = 8\n",
    "    \n",
    "significance level= 0.01, Confidence Interval(CI) = 0.99\n",
    "\n",
    "Null Hypothesis: μ1 = μ2\n",
    "Alternate Hypothesis: μ1 is not equal to μ2\n",
    "\n",
    "degree of freedom = 30-1 = 29\n",
    "\n",
    "using t-test,\n",
    "t-score at 0.005 significance level  = 2.756\n",
    "calculating t-test statistics,t =  (X̄1 - X̄2)/sqrt[(sq(s1)/n1)+(sq(s2)/n2)]\n",
    "                                = (80-75)/sqrt[(100/30)+(64/40)]\n",
    "                                = 5/sqrt[3.33+1.6] = 5/sqrt(4.96) = 5/2.227105745 = 2.245066275\n",
    "Decision Rule: -2.756 < 2.245066275 > 2.756\n",
    "Hence, accepting the null hypothesis."
   ]
  },
  {
   "cell_type": "code",
   "execution_count": null,
   "id": "d90f4afe-2ac2-4ce6-9f96-e13d522af1c8",
   "metadata": {},
   "outputs": [],
   "source": [
    "Q17. A marketing company wants to estimate the average number of ads watched by viewers during a TV\n",
    "program. They take a random sample of 50 viewers and find that the sample mean is 4 with a standard\n",
    "deviation of 1.5. Estimate the population mean with a 99% confidence interval."
   ]
  },
  {
   "cell_type": "code",
   "execution_count": null,
   "id": "eeb27877-db54-49a4-a97b-4a9f93889b4f",
   "metadata": {},
   "outputs": [],
   "source": [
    "X̄(sample mean) = 4, n = 50, sample std = 1.5\n",
    "significance level= 0.01, Confidence Interval(CI) = 0.99\n",
    "\n",
    "using margin of error to estimate the population mean(μ),\n",
    "4(+/-)Z(0.01/2)*(1.5/sqrt(50))     \n",
    "4(+/-)Z(0.005)*(1.5/sqrt(50))        [(1-0.005) = 0.995(area in z-table), z-score at 0.995 is 2.58 ]\n",
    "\n",
    "Lower CI = 4 - ((2.58)*1.5/7.07)\n",
    "         = 4 - 0.54738331 = 3.45261669\n",
    "Higher CI = 4 + ((2.58)*1.5/7.07)\n",
    "          = 4 + 0.54738331 = 4.54738331\n",
    "    \n",
    "Average number of ads watched by viewers during a TV program lies between 3.45261669 and 4.54738331"
   ]
  }
 ],
 "metadata": {
  "kernelspec": {
   "display_name": "Python 3 (ipykernel)",
   "language": "python",
   "name": "python3"
  },
  "language_info": {
   "codemirror_mode": {
    "name": "ipython",
    "version": 3
   },
   "file_extension": ".py",
   "mimetype": "text/x-python",
   "name": "python",
   "nbconvert_exporter": "python",
   "pygments_lexer": "ipython3",
   "version": "3.10.8"
  }
 },
 "nbformat": 4,
 "nbformat_minor": 5
}
